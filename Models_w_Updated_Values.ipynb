{
 "cells": [
  {
   "cell_type": "markdown",
   "id": "bf4327b7",
   "metadata": {},
   "source": [
    "# Imports"
   ]
  },
  {
   "cell_type": "code",
   "execution_count": 1,
   "id": "44eb2961",
   "metadata": {},
   "outputs": [
    {
     "name": "stderr",
     "output_type": "stream",
     "text": [
      "2023-07-25 22:08:04.042601: I tensorflow/core/platform/cpu_feature_guard.cc:182] This TensorFlow binary is optimized to use available CPU instructions in performance-critical operations.\n",
      "To enable the following instructions: AVX2 FMA, in other operations, rebuild TensorFlow with the appropriate compiler flags.\n"
     ]
    }
   ],
   "source": [
    "import pandas as pd \n",
    "import numpy as np \n",
    "\n",
    "from tensorflow import keras\n",
    "\n",
    "import matplotlib.pyplot as plt\n",
    "%matplotlib inline\n",
    "from matplotlib.colors import ListedColormap\n",
    "\n",
    "import seaborn as sns\n",
    "\n",
    "import warnings\n",
    "warnings.filterwarnings('ignore')"
   ]
  },
  {
   "cell_type": "code",
   "execution_count": 2,
   "id": "9ffca977",
   "metadata": {},
   "outputs": [],
   "source": [
    "from sklearn.preprocessing import StandardScaler\n",
    "from sklearn.model_selection import train_test_split\n",
    "\n",
    "from sklearn.metrics import accuracy_score, recall_score, precision_score, f1_score\n",
    "from sklearn.metrics import classification_report\n",
    "from sklearn.metrics import ConfusionMatrixDisplay,RocCurveDisplay\n",
    "from sklearn.metrics import confusion_matrix\n",
    "from sklearn.metrics import roc_auc_score, roc_curve"
   ]
  },
  {
   "cell_type": "markdown",
   "id": "23c912e0",
   "metadata": {},
   "source": [
    "## Loading CSV"
   ]
  },
  {
   "cell_type": "code",
   "execution_count": 3,
   "id": "b5975a6c",
   "metadata": {},
   "outputs": [],
   "source": [
    "music = pd.read_csv('/Users/kellyjara/Desktop/Music_Classification/Data/music_2.csv')\n",
    "music_df = pd.DataFrame(music)"
   ]
  },
  {
   "cell_type": "markdown",
   "id": "e29c001d",
   "metadata": {},
   "source": [
    "## OneHotEncoding Genres"
   ]
  },
  {
   "cell_type": "code",
   "execution_count": 4,
   "id": "9e01c812",
   "metadata": {},
   "outputs": [],
   "source": [
    "from sklearn.preprocessing import OneHotEncoder"
   ]
  },
  {
   "cell_type": "code",
   "execution_count": 5,
   "id": "9ac79398",
   "metadata": {},
   "outputs": [],
   "source": [
    "genres_df = music_df[['genre_y']]"
   ]
  },
  {
   "cell_type": "code",
   "execution_count": 6,
   "id": "940e8f8d",
   "metadata": {},
   "outputs": [],
   "source": [
    "ohe = OneHotEncoder(sparse = False)\n",
    "\n",
    "genres_ohe = ohe.fit_transform(genres_df)\n",
    "\n",
    "ohe_df = pd.DataFrame(genres_ohe, columns = ohe.get_feature_names_out(['genre_y']))\n",
    "\n",
    "df = pd.concat([music_df, ohe_df], axis = 1)\n",
    "\n",
    "df.drop(columns = ['genre_y'], inplace = True)"
   ]
  },
  {
   "cell_type": "code",
   "execution_count": 7,
   "id": "d1b7d88d",
   "metadata": {},
   "outputs": [],
   "source": [
    "df.drop(columns = 'file_name', inplace = True)"
   ]
  },
  {
   "cell_type": "code",
   "execution_count": 8,
   "id": "e0291a85",
   "metadata": {},
   "outputs": [],
   "source": [
    "df.drop(columns = 'genre_x', inplace = True)"
   ]
  },
  {
   "cell_type": "code",
   "execution_count": 9,
   "id": "b71a8a92",
   "metadata": {},
   "outputs": [
    {
     "data": {
      "text/html": [
       "<div>\n",
       "<style scoped>\n",
       "    .dataframe tbody tr th:only-of-type {\n",
       "        vertical-align: middle;\n",
       "    }\n",
       "\n",
       "    .dataframe tbody tr th {\n",
       "        vertical-align: top;\n",
       "    }\n",
       "\n",
       "    .dataframe thead th {\n",
       "        text-align: right;\n",
       "    }\n",
       "</style>\n",
       "<table border=\"1\" class=\"dataframe\">\n",
       "  <thead>\n",
       "    <tr style=\"text-align: right;\">\n",
       "      <th></th>\n",
       "      <th>mfcc_mean</th>\n",
       "      <th>mfcc_var</th>\n",
       "      <th>mfcc_min</th>\n",
       "      <th>mfcc_max</th>\n",
       "      <th>mfcc1_mean</th>\n",
       "      <th>mfcc1_var</th>\n",
       "      <th>mfcc1_min</th>\n",
       "      <th>mfcc1_max</th>\n",
       "      <th>mfcc2_mean</th>\n",
       "      <th>mfcc2_var</th>\n",
       "      <th>...</th>\n",
       "      <th>genre_y_blues</th>\n",
       "      <th>genre_y_classical</th>\n",
       "      <th>genre_y_country</th>\n",
       "      <th>genre_y_disco</th>\n",
       "      <th>genre_y_hiphop</th>\n",
       "      <th>genre_y_jazz</th>\n",
       "      <th>genre_y_metal</th>\n",
       "      <th>genre_y_pop</th>\n",
       "      <th>genre_y_reggae</th>\n",
       "      <th>genre_y_rock</th>\n",
       "    </tr>\n",
       "  </thead>\n",
       "  <tbody>\n",
       "    <tr>\n",
       "      <th>0</th>\n",
       "      <td>-8.942821</td>\n",
       "      <td>64.183520</td>\n",
       "      <td>-1.467964</td>\n",
       "      <td>23.011240</td>\n",
       "      <td>4.736657</td>\n",
       "      <td>6.307176</td>\n",
       "      <td>8.763370</td>\n",
       "      <td>8.697861</td>\n",
       "      <td>0.020061</td>\n",
       "      <td>8.945642</td>\n",
       "      <td>...</td>\n",
       "      <td>0.0</td>\n",
       "      <td>0.0</td>\n",
       "      <td>0.0</td>\n",
       "      <td>0.0</td>\n",
       "      <td>0.0</td>\n",
       "      <td>0.0</td>\n",
       "      <td>0.0</td>\n",
       "      <td>1.0</td>\n",
       "      <td>0.0</td>\n",
       "      <td>0.0</td>\n",
       "    </tr>\n",
       "    <tr>\n",
       "      <th>1</th>\n",
       "      <td>-45.097984</td>\n",
       "      <td>88.633490</td>\n",
       "      <td>8.985597</td>\n",
       "      <td>31.276129</td>\n",
       "      <td>6.828823</td>\n",
       "      <td>15.752106</td>\n",
       "      <td>0.584817</td>\n",
       "      <td>10.050541</td>\n",
       "      <td>0.788925</td>\n",
       "      <td>7.602591</td>\n",
       "      <td>...</td>\n",
       "      <td>0.0</td>\n",
       "      <td>0.0</td>\n",
       "      <td>0.0</td>\n",
       "      <td>0.0</td>\n",
       "      <td>0.0</td>\n",
       "      <td>0.0</td>\n",
       "      <td>0.0</td>\n",
       "      <td>1.0</td>\n",
       "      <td>0.0</td>\n",
       "      <td>0.0</td>\n",
       "    </tr>\n",
       "    <tr>\n",
       "      <th>2</th>\n",
       "      <td>-106.645210</td>\n",
       "      <td>65.831770</td>\n",
       "      <td>12.572899</td>\n",
       "      <td>30.452550</td>\n",
       "      <td>16.271381</td>\n",
       "      <td>3.800628</td>\n",
       "      <td>-1.045976</td>\n",
       "      <td>4.102991</td>\n",
       "      <td>-2.589358</td>\n",
       "      <td>1.586828</td>\n",
       "      <td>...</td>\n",
       "      <td>0.0</td>\n",
       "      <td>0.0</td>\n",
       "      <td>0.0</td>\n",
       "      <td>0.0</td>\n",
       "      <td>0.0</td>\n",
       "      <td>0.0</td>\n",
       "      <td>0.0</td>\n",
       "      <td>1.0</td>\n",
       "      <td>0.0</td>\n",
       "      <td>0.0</td>\n",
       "    </tr>\n",
       "    <tr>\n",
       "      <th>3</th>\n",
       "      <td>-75.366130</td>\n",
       "      <td>83.334880</td>\n",
       "      <td>10.703896</td>\n",
       "      <td>14.455102</td>\n",
       "      <td>14.244521</td>\n",
       "      <td>7.410257</td>\n",
       "      <td>5.279713</td>\n",
       "      <td>-0.400126</td>\n",
       "      <td>5.717757</td>\n",
       "      <td>3.361804</td>\n",
       "      <td>...</td>\n",
       "      <td>0.0</td>\n",
       "      <td>0.0</td>\n",
       "      <td>0.0</td>\n",
       "      <td>0.0</td>\n",
       "      <td>0.0</td>\n",
       "      <td>0.0</td>\n",
       "      <td>0.0</td>\n",
       "      <td>1.0</td>\n",
       "      <td>0.0</td>\n",
       "      <td>0.0</td>\n",
       "    </tr>\n",
       "    <tr>\n",
       "      <th>4</th>\n",
       "      <td>-69.001930</td>\n",
       "      <td>73.770000</td>\n",
       "      <td>-12.468982</td>\n",
       "      <td>9.536624</td>\n",
       "      <td>-0.045610</td>\n",
       "      <td>12.718271</td>\n",
       "      <td>3.165059</td>\n",
       "      <td>-0.084658</td>\n",
       "      <td>2.522358</td>\n",
       "      <td>2.874675</td>\n",
       "      <td>...</td>\n",
       "      <td>0.0</td>\n",
       "      <td>0.0</td>\n",
       "      <td>0.0</td>\n",
       "      <td>0.0</td>\n",
       "      <td>0.0</td>\n",
       "      <td>0.0</td>\n",
       "      <td>0.0</td>\n",
       "      <td>1.0</td>\n",
       "      <td>0.0</td>\n",
       "      <td>0.0</td>\n",
       "    </tr>\n",
       "    <tr>\n",
       "      <th>...</th>\n",
       "      <td>...</td>\n",
       "      <td>...</td>\n",
       "      <td>...</td>\n",
       "      <td>...</td>\n",
       "      <td>...</td>\n",
       "      <td>...</td>\n",
       "      <td>...</td>\n",
       "      <td>...</td>\n",
       "      <td>...</td>\n",
       "      <td>...</td>\n",
       "      <td>...</td>\n",
       "      <td>...</td>\n",
       "      <td>...</td>\n",
       "      <td>...</td>\n",
       "      <td>...</td>\n",
       "      <td>...</td>\n",
       "      <td>...</td>\n",
       "      <td>...</td>\n",
       "      <td>...</td>\n",
       "      <td>...</td>\n",
       "      <td>...</td>\n",
       "    </tr>\n",
       "    <tr>\n",
       "      <th>1727</th>\n",
       "      <td>-147.263640</td>\n",
       "      <td>88.613090</td>\n",
       "      <td>-5.508493</td>\n",
       "      <td>17.767538</td>\n",
       "      <td>3.232844</td>\n",
       "      <td>3.489528</td>\n",
       "      <td>1.577688</td>\n",
       "      <td>4.755512</td>\n",
       "      <td>-5.777406</td>\n",
       "      <td>5.531152</td>\n",
       "      <td>...</td>\n",
       "      <td>0.0</td>\n",
       "      <td>0.0</td>\n",
       "      <td>0.0</td>\n",
       "      <td>1.0</td>\n",
       "      <td>0.0</td>\n",
       "      <td>0.0</td>\n",
       "      <td>0.0</td>\n",
       "      <td>0.0</td>\n",
       "      <td>0.0</td>\n",
       "      <td>0.0</td>\n",
       "    </tr>\n",
       "    <tr>\n",
       "      <th>1728</th>\n",
       "      <td>-117.149660</td>\n",
       "      <td>99.081245</td>\n",
       "      <td>-0.484232</td>\n",
       "      <td>26.842184</td>\n",
       "      <td>4.783892</td>\n",
       "      <td>6.124170</td>\n",
       "      <td>-1.773161</td>\n",
       "      <td>8.033392</td>\n",
       "      <td>-0.388932</td>\n",
       "      <td>4.132214</td>\n",
       "      <td>...</td>\n",
       "      <td>0.0</td>\n",
       "      <td>0.0</td>\n",
       "      <td>0.0</td>\n",
       "      <td>1.0</td>\n",
       "      <td>0.0</td>\n",
       "      <td>0.0</td>\n",
       "      <td>0.0</td>\n",
       "      <td>0.0</td>\n",
       "      <td>0.0</td>\n",
       "      <td>0.0</td>\n",
       "    </tr>\n",
       "    <tr>\n",
       "      <th>1729</th>\n",
       "      <td>-97.885620</td>\n",
       "      <td>101.003600</td>\n",
       "      <td>-40.547610</td>\n",
       "      <td>51.050190</td>\n",
       "      <td>-11.709620</td>\n",
       "      <td>25.064747</td>\n",
       "      <td>-14.048207</td>\n",
       "      <td>17.197395</td>\n",
       "      <td>-9.623669</td>\n",
       "      <td>16.973530</td>\n",
       "      <td>...</td>\n",
       "      <td>0.0</td>\n",
       "      <td>0.0</td>\n",
       "      <td>0.0</td>\n",
       "      <td>1.0</td>\n",
       "      <td>0.0</td>\n",
       "      <td>0.0</td>\n",
       "      <td>0.0</td>\n",
       "      <td>0.0</td>\n",
       "      <td>0.0</td>\n",
       "      <td>0.0</td>\n",
       "    </tr>\n",
       "    <tr>\n",
       "      <th>1730</th>\n",
       "      <td>-51.776085</td>\n",
       "      <td>70.331350</td>\n",
       "      <td>-3.911701</td>\n",
       "      <td>49.742280</td>\n",
       "      <td>1.587971</td>\n",
       "      <td>35.703487</td>\n",
       "      <td>-4.088695</td>\n",
       "      <td>24.787909</td>\n",
       "      <td>-9.707024</td>\n",
       "      <td>22.039282</td>\n",
       "      <td>...</td>\n",
       "      <td>0.0</td>\n",
       "      <td>0.0</td>\n",
       "      <td>0.0</td>\n",
       "      <td>1.0</td>\n",
       "      <td>0.0</td>\n",
       "      <td>0.0</td>\n",
       "      <td>0.0</td>\n",
       "      <td>0.0</td>\n",
       "      <td>0.0</td>\n",
       "      <td>0.0</td>\n",
       "    </tr>\n",
       "    <tr>\n",
       "      <th>1731</th>\n",
       "      <td>-56.901474</td>\n",
       "      <td>97.024080</td>\n",
       "      <td>-17.874454</td>\n",
       "      <td>44.933502</td>\n",
       "      <td>-6.932390</td>\n",
       "      <td>23.813328</td>\n",
       "      <td>-23.314041</td>\n",
       "      <td>25.996197</td>\n",
       "      <td>-10.480186</td>\n",
       "      <td>10.453681</td>\n",
       "      <td>...</td>\n",
       "      <td>0.0</td>\n",
       "      <td>0.0</td>\n",
       "      <td>0.0</td>\n",
       "      <td>1.0</td>\n",
       "      <td>0.0</td>\n",
       "      <td>0.0</td>\n",
       "      <td>0.0</td>\n",
       "      <td>0.0</td>\n",
       "      <td>0.0</td>\n",
       "      <td>0.0</td>\n",
       "    </tr>\n",
       "  </tbody>\n",
       "</table>\n",
       "<p>1732 rows × 49 columns</p>\n",
       "</div>"
      ],
      "text/plain": [
       "       mfcc_mean    mfcc_var   mfcc_min   mfcc_max  mfcc1_mean  mfcc1_var  \\\n",
       "0      -8.942821   64.183520  -1.467964  23.011240    4.736657   6.307176   \n",
       "1     -45.097984   88.633490   8.985597  31.276129    6.828823  15.752106   \n",
       "2    -106.645210   65.831770  12.572899  30.452550   16.271381   3.800628   \n",
       "3     -75.366130   83.334880  10.703896  14.455102   14.244521   7.410257   \n",
       "4     -69.001930   73.770000 -12.468982   9.536624   -0.045610  12.718271   \n",
       "...          ...         ...        ...        ...         ...        ...   \n",
       "1727 -147.263640   88.613090  -5.508493  17.767538    3.232844   3.489528   \n",
       "1728 -117.149660   99.081245  -0.484232  26.842184    4.783892   6.124170   \n",
       "1729  -97.885620  101.003600 -40.547610  51.050190  -11.709620  25.064747   \n",
       "1730  -51.776085   70.331350  -3.911701  49.742280    1.587971  35.703487   \n",
       "1731  -56.901474   97.024080 -17.874454  44.933502   -6.932390  23.813328   \n",
       "\n",
       "      mfcc1_min  mfcc1_max  mfcc2_mean  mfcc2_var  ...  genre_y_blues  \\\n",
       "0      8.763370   8.697861    0.020061   8.945642  ...            0.0   \n",
       "1      0.584817  10.050541    0.788925   7.602591  ...            0.0   \n",
       "2     -1.045976   4.102991   -2.589358   1.586828  ...            0.0   \n",
       "3      5.279713  -0.400126    5.717757   3.361804  ...            0.0   \n",
       "4      3.165059  -0.084658    2.522358   2.874675  ...            0.0   \n",
       "...         ...        ...         ...        ...  ...            ...   \n",
       "1727   1.577688   4.755512   -5.777406   5.531152  ...            0.0   \n",
       "1728  -1.773161   8.033392   -0.388932   4.132214  ...            0.0   \n",
       "1729 -14.048207  17.197395   -9.623669  16.973530  ...            0.0   \n",
       "1730  -4.088695  24.787909   -9.707024  22.039282  ...            0.0   \n",
       "1731 -23.314041  25.996197  -10.480186  10.453681  ...            0.0   \n",
       "\n",
       "      genre_y_classical  genre_y_country  genre_y_disco  genre_y_hiphop  \\\n",
       "0                   0.0              0.0            0.0             0.0   \n",
       "1                   0.0              0.0            0.0             0.0   \n",
       "2                   0.0              0.0            0.0             0.0   \n",
       "3                   0.0              0.0            0.0             0.0   \n",
       "4                   0.0              0.0            0.0             0.0   \n",
       "...                 ...              ...            ...             ...   \n",
       "1727                0.0              0.0            1.0             0.0   \n",
       "1728                0.0              0.0            1.0             0.0   \n",
       "1729                0.0              0.0            1.0             0.0   \n",
       "1730                0.0              0.0            1.0             0.0   \n",
       "1731                0.0              0.0            1.0             0.0   \n",
       "\n",
       "      genre_y_jazz  genre_y_metal  genre_y_pop  genre_y_reggae  genre_y_rock  \n",
       "0              0.0            0.0          1.0             0.0           0.0  \n",
       "1              0.0            0.0          1.0             0.0           0.0  \n",
       "2              0.0            0.0          1.0             0.0           0.0  \n",
       "3              0.0            0.0          1.0             0.0           0.0  \n",
       "4              0.0            0.0          1.0             0.0           0.0  \n",
       "...            ...            ...          ...             ...           ...  \n",
       "1727           0.0            0.0          0.0             0.0           0.0  \n",
       "1728           0.0            0.0          0.0             0.0           0.0  \n",
       "1729           0.0            0.0          0.0             0.0           0.0  \n",
       "1730           0.0            0.0          0.0             0.0           0.0  \n",
       "1731           0.0            0.0          0.0             0.0           0.0  \n",
       "\n",
       "[1732 rows x 49 columns]"
      ]
     },
     "execution_count": 9,
     "metadata": {},
     "output_type": "execute_result"
    }
   ],
   "source": [
    "df"
   ]
  },
  {
   "cell_type": "code",
   "execution_count": 10,
   "id": "c9b60de3",
   "metadata": {},
   "outputs": [
    {
     "name": "stdout",
     "output_type": "stream",
     "text": [
      "<class 'pandas.core.frame.DataFrame'>\n",
      "RangeIndex: 1732 entries, 0 to 1731\n",
      "Data columns (total 49 columns):\n",
      " #   Column             Non-Null Count  Dtype  \n",
      "---  ------             --------------  -----  \n",
      " 0   mfcc_mean          1732 non-null   float64\n",
      " 1   mfcc_var           1732 non-null   float64\n",
      " 2   mfcc_min           1732 non-null   float64\n",
      " 3   mfcc_max           1732 non-null   float64\n",
      " 4   mfcc1_mean         1732 non-null   float64\n",
      " 5   mfcc1_var          1732 non-null   float64\n",
      " 6   mfcc1_min          1732 non-null   float64\n",
      " 7   mfcc1_max          1732 non-null   float64\n",
      " 8   mfcc2_mean         1732 non-null   float64\n",
      " 9   mfcc2_var          1732 non-null   float64\n",
      " 10  mfcc2_min          1732 non-null   float64\n",
      " 11  mfcc2_max          1732 non-null   float64\n",
      " 12  delta_mean         1732 non-null   float64\n",
      " 13  delta_var          1732 non-null   float64\n",
      " 14  delta2_mean        1732 non-null   float64\n",
      " 15  delta2_var         1732 non-null   float64\n",
      " 16  harmonic_mean      1732 non-null   float64\n",
      " 17  harmonic_var       1732 non-null   float64\n",
      " 18  percussive_mean    1732 non-null   float64\n",
      " 19  percussive_var     1732 non-null   float64\n",
      " 20  centroid_mean      1732 non-null   float64\n",
      " 21  centroid_var       1732 non-null   float64\n",
      " 22  centroid_min       1732 non-null   float64\n",
      " 23  centroid_max       1732 non-null   float64\n",
      " 24  chroma_mean        1732 non-null   float64\n",
      " 25  chroma_var         1732 non-null   float64\n",
      " 26  chroma_min         1732 non-null   float64\n",
      " 27  chroma_max         1732 non-null   float64\n",
      " 28  tntz_mean          1732 non-null   float64\n",
      " 29  tntz_var           1732 non-null   float64\n",
      " 30  tntz_min           1732 non-null   float64\n",
      " 31  tntz_max           1732 non-null   float64\n",
      " 32  melspec_mean       1732 non-null   float64\n",
      " 33  melspec_var        1732 non-null   float64\n",
      " 34  melspec_min        1732 non-null   float64\n",
      " 35  melspec_max        1732 non-null   float64\n",
      " 36  rms_mean           1732 non-null   float64\n",
      " 37  rms_var            1732 non-null   float64\n",
      " 38  tempo              1732 non-null   float64\n",
      " 39  genre_y_blues      1732 non-null   float64\n",
      " 40  genre_y_classical  1732 non-null   float64\n",
      " 41  genre_y_country    1732 non-null   float64\n",
      " 42  genre_y_disco      1732 non-null   float64\n",
      " 43  genre_y_hiphop     1732 non-null   float64\n",
      " 44  genre_y_jazz       1732 non-null   float64\n",
      " 45  genre_y_metal      1732 non-null   float64\n",
      " 46  genre_y_pop        1732 non-null   float64\n",
      " 47  genre_y_reggae     1732 non-null   float64\n",
      " 48  genre_y_rock       1732 non-null   float64\n",
      "dtypes: float64(49)\n",
      "memory usage: 663.2 KB\n"
     ]
    }
   ],
   "source": [
    "df.info()"
   ]
  },
  {
   "cell_type": "markdown",
   "id": "4d4c580d",
   "metadata": {},
   "source": [
    "## Train-Test-Split"
   ]
  },
  {
   "cell_type": "code",
   "execution_count": 11,
   "id": "d3834342",
   "metadata": {},
   "outputs": [],
   "source": [
    "X = df.drop(columns=['genre_y_blues', 'genre_y_classical', 'genre_y_country', 'genre_y_disco', 'genre_y_hiphop',\n",
    "                     'genre_y_jazz', 'genre_y_metal', 'genre_y_pop', 'genre_y_reggae', 'genre_y_rock'])\n",
    "y = df[['genre_y_blues', 'genre_y_classical', 'genre_y_country', 'genre_y_disco', 'genre_y_hiphop',\n",
    "        'genre_y_jazz', 'genre_y_metal', 'genre_y_pop', 'genre_y_reggae', 'genre_y_rock']]"
   ]
  },
  {
   "cell_type": "code",
   "execution_count": 12,
   "id": "aac0a9b7",
   "metadata": {},
   "outputs": [],
   "source": [
    "#train-test\n",
    "X_train, X_test, y_train, y_test = train_test_split(\n",
    "    X, y, test_size = 0.20, random_state = 42)\n",
    "\n",
    "#validation\n",
    "X_train, X_val, y_train, y_val = train_test_split(\n",
    "    X_train, y_train, test_size=0.25, random_state=42)"
   ]
  },
  {
   "cell_type": "code",
   "execution_count": 13,
   "id": "627f47b5",
   "metadata": {},
   "outputs": [],
   "source": [
    "#normalizing\n",
    "scaler = StandardScaler()\n",
    "scaler.fit(X_train)\n",
    "\n",
    "X_train_scaled = scaler.transform(X_train)\n",
    "X_test_scaled = scaler.transform(X_test)"
   ]
  },
  {
   "cell_type": "markdown",
   "id": "98437eb4",
   "metadata": {},
   "source": [
    "### Decision Tree - Model 1"
   ]
  },
  {
   "cell_type": "code",
   "execution_count": 14,
   "id": "f561a1ae",
   "metadata": {},
   "outputs": [],
   "source": [
    "from sklearn.tree import DecisionTreeClassifier, plot_tree"
   ]
  },
  {
   "cell_type": "code",
   "execution_count": 15,
   "id": "41fe16cf",
   "metadata": {},
   "outputs": [
    {
     "data": {
      "text/html": [
       "<style>#sk-container-id-1 {color: black;}#sk-container-id-1 pre{padding: 0;}#sk-container-id-1 div.sk-toggleable {background-color: white;}#sk-container-id-1 label.sk-toggleable__label {cursor: pointer;display: block;width: 100%;margin-bottom: 0;padding: 0.3em;box-sizing: border-box;text-align: center;}#sk-container-id-1 label.sk-toggleable__label-arrow:before {content: \"▸\";float: left;margin-right: 0.25em;color: #696969;}#sk-container-id-1 label.sk-toggleable__label-arrow:hover:before {color: black;}#sk-container-id-1 div.sk-estimator:hover label.sk-toggleable__label-arrow:before {color: black;}#sk-container-id-1 div.sk-toggleable__content {max-height: 0;max-width: 0;overflow: hidden;text-align: left;background-color: #f0f8ff;}#sk-container-id-1 div.sk-toggleable__content pre {margin: 0.2em;color: black;border-radius: 0.25em;background-color: #f0f8ff;}#sk-container-id-1 input.sk-toggleable__control:checked~div.sk-toggleable__content {max-height: 200px;max-width: 100%;overflow: auto;}#sk-container-id-1 input.sk-toggleable__control:checked~label.sk-toggleable__label-arrow:before {content: \"▾\";}#sk-container-id-1 div.sk-estimator input.sk-toggleable__control:checked~label.sk-toggleable__label {background-color: #d4ebff;}#sk-container-id-1 div.sk-label input.sk-toggleable__control:checked~label.sk-toggleable__label {background-color: #d4ebff;}#sk-container-id-1 input.sk-hidden--visually {border: 0;clip: rect(1px 1px 1px 1px);clip: rect(1px, 1px, 1px, 1px);height: 1px;margin: -1px;overflow: hidden;padding: 0;position: absolute;width: 1px;}#sk-container-id-1 div.sk-estimator {font-family: monospace;background-color: #f0f8ff;border: 1px dotted black;border-radius: 0.25em;box-sizing: border-box;margin-bottom: 0.5em;}#sk-container-id-1 div.sk-estimator:hover {background-color: #d4ebff;}#sk-container-id-1 div.sk-parallel-item::after {content: \"\";width: 100%;border-bottom: 1px solid gray;flex-grow: 1;}#sk-container-id-1 div.sk-label:hover label.sk-toggleable__label {background-color: #d4ebff;}#sk-container-id-1 div.sk-serial::before {content: \"\";position: absolute;border-left: 1px solid gray;box-sizing: border-box;top: 0;bottom: 0;left: 50%;z-index: 0;}#sk-container-id-1 div.sk-serial {display: flex;flex-direction: column;align-items: center;background-color: white;padding-right: 0.2em;padding-left: 0.2em;position: relative;}#sk-container-id-1 div.sk-item {position: relative;z-index: 1;}#sk-container-id-1 div.sk-parallel {display: flex;align-items: stretch;justify-content: center;background-color: white;position: relative;}#sk-container-id-1 div.sk-item::before, #sk-container-id-1 div.sk-parallel-item::before {content: \"\";position: absolute;border-left: 1px solid gray;box-sizing: border-box;top: 0;bottom: 0;left: 50%;z-index: -1;}#sk-container-id-1 div.sk-parallel-item {display: flex;flex-direction: column;z-index: 1;position: relative;background-color: white;}#sk-container-id-1 div.sk-parallel-item:first-child::after {align-self: flex-end;width: 50%;}#sk-container-id-1 div.sk-parallel-item:last-child::after {align-self: flex-start;width: 50%;}#sk-container-id-1 div.sk-parallel-item:only-child::after {width: 0;}#sk-container-id-1 div.sk-dashed-wrapped {border: 1px dashed gray;margin: 0 0.4em 0.5em 0.4em;box-sizing: border-box;padding-bottom: 0.4em;background-color: white;}#sk-container-id-1 div.sk-label label {font-family: monospace;font-weight: bold;display: inline-block;line-height: 1.2em;}#sk-container-id-1 div.sk-label-container {text-align: center;}#sk-container-id-1 div.sk-container {/* jupyter's `normalize.less` sets `[hidden] { display: none; }` but bootstrap.min.css set `[hidden] { display: none !important; }` so we also need the `!important` here to be able to override the default hidden behavior on the sphinx rendered scikit-learn.org. See: https://github.com/scikit-learn/scikit-learn/issues/21755 */display: inline-block !important;position: relative;}#sk-container-id-1 div.sk-text-repr-fallback {display: none;}</style><div id=\"sk-container-id-1\" class=\"sk-top-container\"><div class=\"sk-text-repr-fallback\"><pre>DecisionTreeClassifier(criterion=&#x27;entropy&#x27;, max_depth=10, random_state=24)</pre><b>In a Jupyter environment, please rerun this cell to show the HTML representation or trust the notebook. <br />On GitHub, the HTML representation is unable to render, please try loading this page with nbviewer.org.</b></div><div class=\"sk-container\" hidden><div class=\"sk-item\"><div class=\"sk-estimator sk-toggleable\"><input class=\"sk-toggleable__control sk-hidden--visually\" id=\"sk-estimator-id-1\" type=\"checkbox\" checked><label for=\"sk-estimator-id-1\" class=\"sk-toggleable__label sk-toggleable__label-arrow\">DecisionTreeClassifier</label><div class=\"sk-toggleable__content\"><pre>DecisionTreeClassifier(criterion=&#x27;entropy&#x27;, max_depth=10, random_state=24)</pre></div></div></div></div></div>"
      ],
      "text/plain": [
       "DecisionTreeClassifier(criterion='entropy', max_depth=10, random_state=24)"
      ]
     },
     "execution_count": 15,
     "metadata": {},
     "output_type": "execute_result"
    }
   ],
   "source": [
    "dt = DecisionTreeClassifier(criterion = 'entropy', max_depth = 10, random_state = 24)\n",
    "dt.fit(X_train_scaled, y_train)"
   ]
  },
  {
   "cell_type": "code",
   "execution_count": 16,
   "id": "15c68ed1",
   "metadata": {},
   "outputs": [
    {
     "name": "stdout",
     "output_type": "stream",
     "text": [
      "Training: 0.928709055876686\n",
      "Test: 0.5129682997118156\n"
     ]
    }
   ],
   "source": [
    "print('Training:', dt.score(X_train_scaled, y_train))\n",
    "print('Test:', dt.score(X_test_scaled, y_test))"
   ]
  },
  {
   "cell_type": "code",
   "execution_count": 17,
   "id": "e0855387",
   "metadata": {},
   "outputs": [],
   "source": [
    "dt_pred = dt.predict(X_test_scaled)"
   ]
  },
  {
   "cell_type": "code",
   "execution_count": 18,
   "id": "66af9bd3",
   "metadata": {},
   "outputs": [
    {
     "name": "stdout",
     "output_type": "stream",
     "text": [
      "Accuracy: 0.5129682997118156\n",
      "Precision: 0.5449918977922298\n",
      "Recall: 0.513978159368359\n"
     ]
    }
   ],
   "source": [
    "dt_acc = accuracy_score(y_test, dt_pred)\n",
    "print('Accuracy:', dt_acc)\n",
    "dt_pre = precision_score(y_test, dt_pred, average = 'macro')\n",
    "print('Precision:', dt_pre)\n",
    "dt_re = recall_score(y_test, dt_pred, average = 'macro')\n",
    "print('Recall:', dt_re)"
   ]
  },
  {
   "cell_type": "code",
   "execution_count": 19,
   "id": "7742bb13",
   "metadata": {},
   "outputs": [
    {
     "data": {
      "text/plain": [
       "<sklearn.metrics._plot.confusion_matrix.ConfusionMatrixDisplay at 0x7f9262fe9180>"
      ]
     },
     "execution_count": 19,
     "metadata": {},
     "output_type": "execute_result"
    },
    {
     "data": {
      "image/png": "[encoded data removed]",
      "text/plain": [
       "<Figure size 640x480 with 2 Axes>"
      ]
     },
     "metadata": {},
     "output_type": "display_data"
    }
   ],
   "source": [
    "dt_cm = confusion_matrix(y_test.values.argmax(axis = 1),\n",
    "                        dt_pred.argmax(axis = 1));\n",
    "ConfusionMatrixDisplay(dt_cm).plot()"
   ]
  },
  {
   "cell_type": "code",
   "execution_count": 20,
   "id": "ec23215c",
   "metadata": {},
   "outputs": [
    {
     "data": {
      "text/plain": [
       "0.7337223734403174"
      ]
     },
     "execution_count": 20,
     "metadata": {},
     "output_type": "execute_result"
    }
   ],
   "source": [
    "roc_auc_score(y_test, dt_pred)"
   ]
  },
  {
   "cell_type": "markdown",
   "id": "09d400eb",
   "metadata": {},
   "source": [
    "### Random Forest - Model 2"
   ]
  },
  {
   "cell_type": "code",
   "execution_count": 21,
   "id": "e0b6ac4d",
   "metadata": {},
   "outputs": [],
   "source": [
    "from sklearn.ensemble import RandomForestClassifier"
   ]
  },
  {
   "cell_type": "code",
   "execution_count": 22,
   "id": "c12cf83d",
   "metadata": {},
   "outputs": [
    {
     "data": {
      "text/html": [
       "<style>#sk-container-id-2 {color: black;}#sk-container-id-2 pre{padding: 0;}#sk-container-id-2 div.sk-toggleable {background-color: white;}#sk-container-id-2 label.sk-toggleable__label {cursor: pointer;display: block;width: 100%;margin-bottom: 0;padding: 0.3em;box-sizing: border-box;text-align: center;}#sk-container-id-2 label.sk-toggleable__label-arrow:before {content: \"▸\";float: left;margin-right: 0.25em;color: #696969;}#sk-container-id-2 label.sk-toggleable__label-arrow:hover:before {color: black;}#sk-container-id-2 div.sk-estimator:hover label.sk-toggleable__label-arrow:before {color: black;}#sk-container-id-2 div.sk-toggleable__content {max-height: 0;max-width: 0;overflow: hidden;text-align: left;background-color: #f0f8ff;}#sk-container-id-2 div.sk-toggleable__content pre {margin: 0.2em;color: black;border-radius: 0.25em;background-color: #f0f8ff;}#sk-container-id-2 input.sk-toggleable__control:checked~div.sk-toggleable__content {max-height: 200px;max-width: 100%;overflow: auto;}#sk-container-id-2 input.sk-toggleable__control:checked~label.sk-toggleable__label-arrow:before {content: \"▾\";}#sk-container-id-2 div.sk-estimator input.sk-toggleable__control:checked~label.sk-toggleable__label {background-color: #d4ebff;}#sk-container-id-2 div.sk-label input.sk-toggleable__control:checked~label.sk-toggleable__label {background-color: #d4ebff;}#sk-container-id-2 input.sk-hidden--visually {border: 0;clip: rect(1px 1px 1px 1px);clip: rect(1px, 1px, 1px, 1px);height: 1px;margin: -1px;overflow: hidden;padding: 0;position: absolute;width: 1px;}#sk-container-id-2 div.sk-estimator {font-family: monospace;background-color: #f0f8ff;border: 1px dotted black;border-radius: 0.25em;box-sizing: border-box;margin-bottom: 0.5em;}#sk-container-id-2 div.sk-estimator:hover {background-color: #d4ebff;}#sk-container-id-2 div.sk-parallel-item::after {content: \"\";width: 100%;border-bottom: 1px solid gray;flex-grow: 1;}#sk-container-id-2 div.sk-label:hover label.sk-toggleable__label {background-color: #d4ebff;}#sk-container-id-2 div.sk-serial::before {content: \"\";position: absolute;border-left: 1px solid gray;box-sizing: border-box;top: 0;bottom: 0;left: 50%;z-index: 0;}#sk-container-id-2 div.sk-serial {display: flex;flex-direction: column;align-items: center;background-color: white;padding-right: 0.2em;padding-left: 0.2em;position: relative;}#sk-container-id-2 div.sk-item {position: relative;z-index: 1;}#sk-container-id-2 div.sk-parallel {display: flex;align-items: stretch;justify-content: center;background-color: white;position: relative;}#sk-container-id-2 div.sk-item::before, #sk-container-id-2 div.sk-parallel-item::before {content: \"\";position: absolute;border-left: 1px solid gray;box-sizing: border-box;top: 0;bottom: 0;left: 50%;z-index: -1;}#sk-container-id-2 div.sk-parallel-item {display: flex;flex-direction: column;z-index: 1;position: relative;background-color: white;}#sk-container-id-2 div.sk-parallel-item:first-child::after {align-self: flex-end;width: 50%;}#sk-container-id-2 div.sk-parallel-item:last-child::after {align-self: flex-start;width: 50%;}#sk-container-id-2 div.sk-parallel-item:only-child::after {width: 0;}#sk-container-id-2 div.sk-dashed-wrapped {border: 1px dashed gray;margin: 0 0.4em 0.5em 0.4em;box-sizing: border-box;padding-bottom: 0.4em;background-color: white;}#sk-container-id-2 div.sk-label label {font-family: monospace;font-weight: bold;display: inline-block;line-height: 1.2em;}#sk-container-id-2 div.sk-label-container {text-align: center;}#sk-container-id-2 div.sk-container {/* jupyter's `normalize.less` sets `[hidden] { display: none; }` but bootstrap.min.css set `[hidden] { display: none !important; }` so we also need the `!important` here to be able to override the default hidden behavior on the sphinx rendered scikit-learn.org. See: https://github.com/scikit-learn/scikit-learn/issues/21755 */display: inline-block !important;position: relative;}#sk-container-id-2 div.sk-text-repr-fallback {display: none;}</style><div id=\"sk-container-id-2\" class=\"sk-top-container\"><div class=\"sk-text-repr-fallback\"><pre>RandomForestClassifier()</pre><b>In a Jupyter environment, please rerun this cell to show the HTML representation or trust the notebook. <br />On GitHub, the HTML representation is unable to render, please try loading this page with nbviewer.org.</b></div><div class=\"sk-container\" hidden><div class=\"sk-item\"><div class=\"sk-estimator sk-toggleable\"><input class=\"sk-toggleable__control sk-hidden--visually\" id=\"sk-estimator-id-2\" type=\"checkbox\" checked><label for=\"sk-estimator-id-2\" class=\"sk-toggleable__label sk-toggleable__label-arrow\">RandomForestClassifier</label><div class=\"sk-toggleable__content\"><pre>RandomForestClassifier()</pre></div></div></div></div></div>"
      ],
      "text/plain": [
       "RandomForestClassifier()"
      ]
     },
     "execution_count": 22,
     "metadata": {},
     "output_type": "execute_result"
    }
   ],
   "source": [
    "rf = RandomForestClassifier()\n",
    "rf.fit(X_train_scaled, y_train)"
   ]
  },
  {
   "cell_type": "code",
   "execution_count": 23,
   "id": "e4e21eba",
   "metadata": {},
   "outputs": [],
   "source": [
    "rf_pred = rf.predict(X_test_scaled)"
   ]
  },
  {
   "cell_type": "code",
   "execution_count": 24,
   "id": "457ec344",
   "metadata": {},
   "outputs": [
    {
     "name": "stdout",
     "output_type": "stream",
     "text": [
      "Accuracy: 0.42939481268011526\n",
      "Precision: 0.9643022486772488\n",
      "Recall: 0.42523177417460534\n"
     ]
    }
   ],
   "source": [
    "rf_accuracy = accuracy_score(y_test, rf_pred)\n",
    "print('Accuracy:', rf_accuracy)\n",
    "rf_precision = precision_score(y_test, rf_pred, average = 'macro')\n",
    "print('Precision:',rf_precision)\n",
    "rf_recall = recall_score(y_test, rf_pred, average = 'macro')\n",
    "print('Recall:',rf_recall)"
   ]
  },
  {
   "cell_type": "code",
   "execution_count": 25,
   "id": "b3592c6b",
   "metadata": {},
   "outputs": [
    {
     "data": {
      "text/plain": [
       "<sklearn.metrics._plot.confusion_matrix.ConfusionMatrixDisplay at 0x7f926284c430>"
      ]
     },
     "execution_count": 25,
     "metadata": {},
     "output_type": "execute_result"
    },
    {
     "data": {
      "image/png": "[encoded data removed]",
      "text/plain": [
       "<Figure size 640x480 with 2 Axes>"
      ]
     },
     "metadata": {},
     "output_type": "display_data"
    }
   ],
   "source": [
    "rf_cm =confusion_matrix(y_test.values.argmax(axis=1), \n",
    "                        rf_pred.argmax(axis=1));\n",
    "ConfusionMatrixDisplay(rf_cm).plot()"
   ]
  },
  {
   "cell_type": "markdown",
   "id": "3cf1b05c",
   "metadata": {},
   "source": [
    "### K Nearest Neighbor - Model 3"
   ]
  },
  {
   "cell_type": "code",
   "execution_count": 26,
   "id": "41e2fc22",
   "metadata": {},
   "outputs": [],
   "source": [
    "from sklearn.neighbors import KNeighborsClassifier\n",
    "from sklearn.model_selection import KFold\n",
    "from sklearn.decomposition import PCA"
   ]
  },
  {
   "cell_type": "code",
   "execution_count": 30,
   "id": "ca3b7c89",
   "metadata": {},
   "outputs": [],
   "source": [
    "def cross_val(X_train, y_train, k, num_split = 20):\n",
    "\n",
    "    X_train = X_train.values\n",
    "    y_train = y_train.values\n",
    "    \n",
    "    score_train_list = []\n",
    "    score_val_list = []\n",
    "    \n",
    "    for train_index, valid_index in KFold(n_splits = num_split).split(X_train):\n",
    "       \n",
    "        #train & validation splitting (folds)\n",
    "        X_train_fold, X_val_fold = X_train[train_index], X_train[valid_index]\n",
    "        y_train_fold, y_val_fold = y_train[train_index], y_train[valid_index]\n",
    "        \n",
    "        #scaling and fitting on the train/val fold \n",
    "        scaler = StandardScaler()\n",
    "        X_tf_sc = scaler.fit_transform(X_train_fold)\n",
    "        X_vld_sc = scaler.transform(X_val_fold)\n",
    "        \n",
    "        #creating and fitting knn \n",
    "        knn = KNeighborsClassifier(n_neighbors = k, metric = 'euclidean')\n",
    "        knn.fit(X_tf_sc, y_train_fold)\n",
    "        \n",
    "        #scores\n",
    "        acc_tr = knn.score(X_tf_sc, y_train_fold)\n",
    "        acc_val = knn.score(X_vld_sc, y_val_fold)\n",
    "        score_val_list.append(acc_val)\n",
    "        score_train_list.append(acc_tr)\n",
    "        \n",
    "    return {'k': k, 'train': np.mean(score_train_list), \n",
    "                                    'validation': np.mean(score_val_list)}"
   ]
  },
  {
   "cell_type": "code",
   "execution_count": 32,
   "id": "03480697",
   "metadata": {},
   "outputs": [],
   "source": [
    "crossval_df = pd.DataFrame(columns = ['k', 'train', 'validation'])\n",
    "\n",
    "for k in range(1, 100):\n",
    "    result = cross_val(X_train, y_train, k, 5)\n",
    "    crossval_df = crossval_df.append(result, ignore_index=True)"
   ]
  },
  {
   "cell_type": "code",
   "execution_count": 34,
   "id": "855cf11f",
   "metadata": {},
   "outputs": [
    {
     "name": "stdout",
     "output_type": "stream",
     "text": [
      "<class 'pandas.core.frame.DataFrame'>\n",
      "RangeIndex: 99 entries, 0 to 98\n",
      "Data columns (total 3 columns):\n",
      " #   Column      Non-Null Count  Dtype  \n",
      "---  ------      --------------  -----  \n",
      " 0   k           99 non-null     float64\n",
      " 1   train       99 non-null     float64\n",
      " 2   validation  99 non-null     float64\n",
      "dtypes: float64(3)\n",
      "memory usage: 2.4 KB\n"
     ]
    }
   ],
   "source": [
    "crossval_df.info()"
   ]
  },
  {
   "cell_type": "code",
   "execution_count": 36,
   "id": "bf199287",
   "metadata": {},
   "outputs": [
    {
     "data": {
      "image/png": "[encoded data removed]",
      "text/plain": [
       "<Figure size 640x480 with 1 Axes>"
      ]
     },
     "metadata": {},
     "output_type": "display_data"
    }
   ],
   "source": [
    "fig, ax = plt.subplots()\n",
    "sns.lineplot(x = 'k', y = 'train', \n",
    "             data = crossval_df, \n",
    "             ax = ax, label = 'train')\n",
    "sns.lineplot(x = 'k', y = 'validation', \n",
    "             data = crossval_df,\n",
    "             ax = ax, label = 'validation')\n",
    "ax.set_ylabel('Accuracy')\n",
    "ax.set_title('5-fold CV tuning KNN')\n",
    "plt.show()"
   ]
  },
  {
   "cell_type": "code",
   "execution_count": 37,
   "id": "466ec3a8",
   "metadata": {},
   "outputs": [
    {
     "data": {
      "text/plain": [
       "k             1.000000\n",
       "train         1.000000\n",
       "validation    0.702281\n",
       "Name: 0, dtype: float64"
      ]
     },
     "execution_count": 37,
     "metadata": {},
     "output_type": "execute_result"
    }
   ],
   "source": [
    "crossval_df.iloc[crossval_df['validation'].idxmax()]"
   ]
  },
  {
   "cell_type": "code",
   "execution_count": 39,
   "id": "15eb5d07",
   "metadata": {},
   "outputs": [],
   "source": [
    "fulltrain_scaler = StandardScaler()\n",
    "X_train_sc = fulltrain_scaler.fit_transform(X_train)\n",
    "X_test_sc = fulltrain_scaler.transform(X_test)\n",
    "\n",
    "pca = PCA(n_components=2)\n",
    "X_train_pca = pca.fit_transform(X_train_sc)\n",
    "X_test_pca = pca.transform(X_test_sc)\n",
    "\n",
    "knn = KNeighborsClassifier(n_neighbors = 1)\n",
    "knn.fit(X_train_sc, y_train)\n",
    "\n",
    "knn_pred = knn.predict(X_test_sc)"
   ]
  },
  {
   "cell_type": "code",
   "execution_count": 40,
   "id": "b9608e82",
   "metadata": {},
   "outputs": [
    {
     "data": {
      "text/plain": [
       "<sklearn.metrics._plot.confusion_matrix.ConfusionMatrixDisplay at 0x7f926472c6a0>"
      ]
     },
     "execution_count": 40,
     "metadata": {},
     "output_type": "execute_result"
    },
    {
     "data": {
      "image/png": "[encoded data removed]",
      "text/plain": [
       "<Figure size 640x480 with 2 Axes>"
      ]
     },
     "metadata": {},
     "output_type": "display_data"
    }
   ],
   "source": [
    "knn_cm =confusion_matrix(y_test.values.argmax(axis=1), \n",
    "                        knn_pred.argmax(axis=1));\n",
    "ConfusionMatrixDisplay(knn_cm).plot()"
   ]
  },
  {
   "cell_type": "code",
   "execution_count": 42,
   "id": "699d28d2",
   "metadata": {},
   "outputs": [
    {
     "name": "stdout",
     "output_type": "stream",
     "text": [
      "Accuracy: 0.7089337175792507\n",
      "Precission: 0.7087118614233193\n",
      "Recall: 0.6948249879783456\n"
     ]
    }
   ],
   "source": [
    "knn_accuracy = accuracy_score(y_test, knn_pred)\n",
    "print('Accuracy:', knn_accuracy)\n",
    "knn_precision = precision_score(y_test, knn_pred, average = 'macro')\n",
    "print('Precission:',knn_precision)\n",
    "knn_recall = recall_score(y_test, knn_pred, average = 'macro')\n",
    "print('Recall:',knn_recall)"
   ]
  },
  {
   "cell_type": "code",
   "execution_count": null,
   "id": "acb0b090",
   "metadata": {},
   "outputs": [],
   "source": []
  },
  {
   "cell_type": "code",
   "execution_count": null,
   "id": "7a362489",
   "metadata": {},
   "outputs": [],
   "source": []
  },
  {
   "cell_type": "code",
   "execution_count": null,
   "id": "f06db53b",
   "metadata": {},
   "outputs": [],
   "source": []
  },
  {
   "cell_type": "code",
   "execution_count": null,
   "id": "f7d378af",
   "metadata": {},
   "outputs": [],
   "source": []
  },
  {
   "cell_type": "code",
   "execution_count": null,
   "id": "b84663e6",
   "metadata": {},
   "outputs": [],
   "source": []
  },
  {
   "cell_type": "code",
   "execution_count": null,
   "id": "f4fff958",
   "metadata": {},
   "outputs": [],
   "source": []
  },
  {
   "cell_type": "code",
   "execution_count": null,
   "id": "71a99013",
   "metadata": {},
   "outputs": [],
   "source": []
  },
  {
   "cell_type": "code",
   "execution_count": null,
   "id": "f37b545c",
   "metadata": {},
   "outputs": [],
   "source": []
  },
  {
   "cell_type": "code",
   "execution_count": null,
   "id": "c9d30fb2",
   "metadata": {},
   "outputs": [],
   "source": []
  },
  {
   "cell_type": "code",
   "execution_count": null,
   "id": "39b1ec26",
   "metadata": {},
   "outputs": [],
   "source": []
  },
  {
   "cell_type": "code",
   "execution_count": null,
   "id": "f4115bea",
   "metadata": {},
   "outputs": [],
   "source": []
  },
  {
   "cell_type": "code",
   "execution_count": null,
   "id": "c578bba8",
   "metadata": {},
   "outputs": [],
   "source": []
  },
  {
   "cell_type": "code",
   "execution_count": null,
   "id": "1084b37b",
   "metadata": {},
   "outputs": [],
   "source": []
  },
  {
   "cell_type": "code",
   "execution_count": null,
   "id": "6f5e55f0",
   "metadata": {},
   "outputs": [],
   "source": []
  },
  {
   "cell_type": "code",
   "execution_count": null,
   "id": "259b7660",
   "metadata": {},
   "outputs": [],
   "source": []
  },
  {
   "cell_type": "code",
   "execution_count": null,
   "id": "818ba3d2",
   "metadata": {},
   "outputs": [],
   "source": []
  },
  {
   "cell_type": "code",
   "execution_count": null,
   "id": "bda3680b",
   "metadata": {},
   "outputs": [],
   "source": []
  },
  {
   "cell_type": "code",
   "execution_count": null,
   "id": "0eb70661",
   "metadata": {},
   "outputs": [],
   "source": []
  },
  {
   "cell_type": "code",
   "execution_count": null,
   "id": "1c01413a",
   "metadata": {},
   "outputs": [],
   "source": []
  },
  {
   "cell_type": "code",
   "execution_count": null,
   "id": "004d9efb",
   "metadata": {},
   "outputs": [],
   "source": []
  },
  {
   "cell_type": "code",
   "execution_count": null,
   "id": "44673c2a",
   "metadata": {},
   "outputs": [],
   "source": []
  },
  {
   "cell_type": "code",
   "execution_count": null,
   "id": "b831fdbf",
   "metadata": {},
   "outputs": [],
   "source": []
  }
 ],
 "metadata": {
  "kernelspec": {
   "display_name": "Python 3 (ipykernel)",
   "language": "python",
   "name": "python3"
  },
  "language_info": {
   "codemirror_mode": {
    "name": "ipython",
    "version": 3
   },
   "file_extension": ".py",
   "mimetype": "text/x-python",
   "name": "python",
   "nbconvert_exporter": "python",
   "pygments_lexer": "ipython3",
   "version": "3.10.11"
  }
 },
 "nbformat": 4,
 "nbformat_minor": 5
}
